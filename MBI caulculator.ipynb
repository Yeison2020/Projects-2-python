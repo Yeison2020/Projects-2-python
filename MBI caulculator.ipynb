{
 "cells": [
  {
   "cell_type": "code",
   "execution_count": 17,
   "metadata": {},
   "outputs": [],
   "source": [
    "def bmi():\n",
    "    \n",
    "    \n",
    "    \n",
    "    \n",
    "        height = input(\"Please provide your height in cm: \")\n",
    "                   \n",
    "        weight = input(\"Please provide your weigh in kg: \")\n",
    "                \n",
    "    \n",
    "        \n",
    "        height_1 = float(height)\n",
    "        \n",
    "        weight_1 = int(weight)\n",
    "        \n",
    "        bmi = round( weight_1 / height_1 * height_1 )\n",
    "    \n",
    "    \n",
    "    \n",
    "    \n",
    "    \n",
    "    \n",
    "                 \n",
    "                 \n",
    "        if bmi < 18.5:\n",
    "                 \n",
    "                print(\"Underweight\")\n",
    "                \n",
    "                 \n",
    "        elif bmi > 18.5 and bmi< 25:\n",
    "                 \n",
    "                 print(\"Normal weight\")\n",
    "    \n",
    "        elif bmi > 25 and bmi < 30:\n",
    "                 \n",
    "                 print(\"Overweight\")\n",
    "                 \n",
    "        elif bmi > 30 and bmi < 35:\n",
    "                 \n",
    "                 \n",
    "                 print(\"Obese\")\n",
    "                 \n",
    "        elif bmi > 35 :\n",
    "                 \n",
    "                 print(\"Clinically obese\")\n",
    "                 \n",
    "        else:\n",
    "        \n",
    "            print(\"Thank for checking\")\n",
    "                 \n",
    "        return int(bmi)\n",
    "                 \n",
    "                 \n",
    "                 \n",
    "                 \n",
    "                 \n",
    "                 \n",
    "                 "
   ]
  },
  {
   "cell_type": "code",
   "execution_count": 18,
   "metadata": {},
   "outputs": [
    {
     "name": "stdout",
     "output_type": "stream",
     "text": [
      "Please provide your height in cm: 1.86\n",
      "Please provide your weigh in kg: 91\n",
      "Clinically obese\n"
     ]
    },
    {
     "data": {
      "text/plain": [
       "91"
      ]
     },
     "execution_count": 18,
     "metadata": {},
     "output_type": "execute_result"
    }
   ],
   "source": [
    "bmi()"
   ]
  },
  {
   "cell_type": "code",
   "execution_count": null,
   "metadata": {},
   "outputs": [],
   "source": []
  }
 ],
 "metadata": {
  "kernelspec": {
   "display_name": "Python 3",
   "language": "python",
   "name": "python3"
  },
  "language_info": {
   "codemirror_mode": {
    "name": "ipython",
    "version": 3
   },
   "file_extension": ".py",
   "mimetype": "text/x-python",
   "name": "python",
   "nbconvert_exporter": "python",
   "pygments_lexer": "ipython3",
   "version": "3.8.3"
  }
 },
 "nbformat": 4,
 "nbformat_minor": 4
}
