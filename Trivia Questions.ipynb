{
 "cells": [
  {
   "cell_type": "code",
   "execution_count": 3,
   "metadata": {},
   "outputs": [],
   "source": [
    "question_data = [\n",
    "    {\"text\": \"A slug's blood is green.\", \"answer\": \"True\"},\n",
    "    {\"text\": \"The loudest animal is the African Elephant.\", \"answer\": \"False\"},\n",
    "    {\"text\": \"Approximately one quarter of human bones are in the feet.\", \"answer\": \"True\"},\n",
    "    {\"text\": \"The total surface area of a human lungs is the size of a football pitch.\", \"answer\": \"True\"},\n",
    "    {\"text\": \"In West Virginia, USA, if you accidentally hit an animal with your car, \"\n",
    "             \"you are free to take it home to eat.\", \"answer\": \"True\"},\n",
    "    {\"text\": \"In London, UK, if you happen to die in the House of Parliament, \"\n",
    "             \"you are entitled to a state funeral.\", \"answer\": \"False\"},\n",
    "    {\"text\": \"It is illegal to pee in the Ocean in Portugal.\", \"answer\": \"True\"},\n",
    "    {\"text\": \"You can lead a cow down stairs but not up stairs.\", \"answer\": \"False\"},\n",
    "    {\"text\": \"Google was originally called 'Backrub'.\", \"answer\": \"True\"},\n",
    "    {\"text\": \"Buzz Aldrin's mother's maiden name was 'Moon'.\", \"answer\": \"True\"},\n",
    "    {\"text\": \"No piece of square dry paper can be folded in half more than 7 times.\", \"answer\": \"False\"},\n",
    "    {\"text\": \"A few ounces of chocolate can to kill a small dog.\", \"answer\": \"True\"}\n",
    "]\n",
    "\n",
    "class Question():\n",
    "\n",
    "    def __init__(self, q_text, q_answer):\n",
    "        self.text = q_text\n",
    "        self.answer = q_answer\n",
    "\n",
    "\n",
    "\n",
    "\n",
    "#from main import question_bank\n",
    "\n",
    "# question_number = 0\n",
    "# question_list = 0\n",
    "class QuizBrain():\n",
    "\n",
    "    def __init__(self, question_list):\n",
    "        self.question_number = 0\n",
    "        self.question_list = question_list\n",
    "        self.score = 0\n",
    "    def next_question(self):\n",
    "        current_question = self.question_list[self.question_number]\n",
    "        self.question_number += 1\n",
    "        user_answer = input(f\"{self.question_number}:{current_question.text} (True / False):\\n \")\n",
    "        self.check_answer(user_answer,current_question.answer)\n",
    "\n",
    "\n",
    "    def still_has_question(self):\n",
    "        return self.question_number < len(self.question_list)\n",
    "\n",
    "    def check_answer(self, user_answer, correct_answer):\n",
    "        if user_answer.lower() == correct_answer.lower():\n",
    "            self.score += 1\n",
    "            print(\"You got it right\")\n",
    "        else:\n",
    "            print(\"That's not the right answer \")\n",
    "        print(f\" The correct answer is {correct_answer}\")\n",
    "        print(f\"Your score is {quiz.score}/{self.question_number}\")\n",
    "\n"
   ]
  },
  {
   "cell_type": "code",
   "execution_count": 1,
   "metadata": {},
   "outputs": [
    {
     "ename": "NameError",
     "evalue": "name 'question_data' is not defined",
     "output_type": "error",
     "traceback": [
      "\u001b[1;31m---------------------------------------------------------------------------\u001b[0m",
      "\u001b[1;31mNameError\u001b[0m                                 Traceback (most recent call last)",
      "\u001b[1;32m<ipython-input-1-dd8aa7e6bdf5>\u001b[0m in \u001b[0;36m<module>\u001b[1;34m\u001b[0m\n\u001b[0;32m      5\u001b[0m \u001b[0mquestion_bank\u001b[0m \u001b[1;33m=\u001b[0m \u001b[1;33m[\u001b[0m\u001b[1;33m]\u001b[0m\u001b[1;33m\u001b[0m\u001b[1;33m\u001b[0m\u001b[0m\n\u001b[0;32m      6\u001b[0m \u001b[1;33m\u001b[0m\u001b[0m\n\u001b[1;32m----> 7\u001b[1;33m \u001b[1;32mfor\u001b[0m \u001b[0mword\u001b[0m \u001b[1;32min\u001b[0m \u001b[0mquestion_data\u001b[0m\u001b[1;33m:\u001b[0m\u001b[1;33m\u001b[0m\u001b[1;33m\u001b[0m\u001b[0m\n\u001b[0m\u001b[0;32m      8\u001b[0m \u001b[1;33m\u001b[0m\u001b[0m\n\u001b[0;32m      9\u001b[0m \u001b[1;33m\u001b[0m\u001b[0m\n",
      "\u001b[1;31mNameError\u001b[0m: name 'question_data' is not defined"
     ]
    }
   ],
   "source": [
    "# from data import question_data\n",
    "# from question_model import Question\n",
    "# from quiz_brain import QuizBrain\n",
    "\n",
    "question_bank = []\n",
    "\n",
    "for word in question_data:\n",
    "    \n",
    "    \n",
    "    q_text_1 = word[\"text\"]\n",
    "    q_answer_1 = word[\"answer\"]\n",
    "    new_questions = Question(q_text_1, q_answer_1)\n",
    "    question_bank.append(new_questions)\n",
    "    quiz = QuizBrain(question_bank)\n",
    "\n",
    "while quiz.still_has_question():\n",
    "    \n",
    "    quiz.next_question()\n",
    "    print(\"\\n\")\n",
    "print(\"You've completed the Quiz\")\n",
    "print(f\" You're score is {quiz.score} /{len(question_bank)}\")"
   ]
  },
  {
   "cell_type": "code",
   "execution_count": null,
   "metadata": {},
   "outputs": [],
   "source": []
  },
  {
   "cell_type": "code",
   "execution_count": null,
   "metadata": {},
   "outputs": [],
   "source": []
  }
 ],
 "metadata": {
  "kernelspec": {
   "display_name": "Python 3",
   "language": "python",
   "name": "python3"
  }
 },
 "nbformat": 4,
 "nbformat_minor": 4
}
