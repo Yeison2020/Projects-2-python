{
 "cells": [
  {
   "cell_type": "code",
   "execution_count": 34,
   "metadata": {},
   "outputs": [],
   "source": [
    
    "\n",
    "def love_game():\n",
    "    \n",
    "    print(\"Welcome to the love calculator\")\n",
    "    \n",
    "    name1 = input(\"What is your name?\\n\")\n",
    "    \n",
    "    name2 = input(\"What is your name ?\\n\")\n",
    "    \n",
    "    whole_name = name1  + name2\n",
    "    \n",
    "    lower_whole_name = whole_name.lower()\n",
    "    \n",
    "    t = lower_whole_name.count(\"t\")\n",
    "    r = lower_whole_name.count(\"r\")\n",
    "    u = lower_whole_name.count(\"u\")\n",
    "    e = lower_whole_name.count(\"e\")\n",
    "    \n",
    "    \n",
    "    true = t + r + u + e\n",
    "    \n",
    "    l = lower_whole_name.count(\"l\")\n",
    "    o = lower_whole_name.count(\"o\")\n",
    "    v = lower_whole_name.count(\"v\")\n",
    "    e = lower_whole_name.count(\"e\")\n",
    "   \n",
    "    love = l + o + v + e \n",
    "    \n",
    "    checking_1 = str(love) + str(true)\n",
    "    \n",
    "    checking = int(checking_1)\n",
    "    \n",
    "    \n",
    "    if (checking >= 1) or (checking > 90):\n",
    "        \n",
    "        print(f\"Your score is % {checking}, you go together like coke and mentors!!\".format())\n",
    "        \n",
    "    elif checking >= 40 or checking <= 50:\n",
    "        \n",
    "            \n",
    "        print(f\" Your score is % {checking}, you are alright together!!\".format())\n",
    "        \n",
    "        \n",
    "    else:\n",
    "    \n",
    "        \n",
    "        print(f\"Your score is {checking}\".format())            \n",
    "                  \n",
    "                  \n",
    "    \n",
    "     \n",
    "   "
   ]
  },
  {
   "cell_type": "code",
   "execution_count": 35,
   "metadata": {},
   "outputs": [
    {
     "name": "stdout",
     "output_type": "stream",
     "text": [
      "Welcome to the love calculator\n",
      "What is your name?\n",
      "maritza\n",
      "What is your name ?\n",
      "nerson\n",
      "Your score is % 24, you go together like coke and mentors!!\n"
     ]
    }
   ],
   "source": [
    "love_game()"
   ]
  },
  {
   "cell_type": "code",
   "execution_count": null,
   "metadata": {},
   "outputs": [],
   "source": []
  }
 ],
 "metadata": {
  "kernelspec": {
   "display_name": "Python 3",
   "language": "python",
   "name": "python3"
  },
  "language_info": {
   "codemirror_mode": {
    "name": "ipython",
    "version": 3
   },
   "file_extension": ".py",
   "mimetype": "text/x-python",
   "name": "python",
   "nbconvert_exporter": "python",
   "pygments_lexer": "ipython3",
   "version": "3.8.3"
  }
 },
 "nbformat": 4,
 "nbformat_minor": 4
}
